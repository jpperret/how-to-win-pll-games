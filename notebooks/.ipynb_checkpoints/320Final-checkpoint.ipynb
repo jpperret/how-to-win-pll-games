{
 "cells": [
  {
   "cell_type": "code",
   "execution_count": 1,
   "id": "likely-large",
   "metadata": {},
   "outputs": [
    {
     "data": {
      "text/plain": [
       "'\\n\\nr = req.get(\"https://www.statscrew.com/lacrosse/stats/t-PLLWHI/y-2020\")\\nsoup = BeautifulSoup(r.content, \\'html.parser\\')\\n#print(soup.prettify())\\nwhipsnakes20_dfs = pd.read_html(soup.prettify())\\nwhipsnakes20_scoring_df = whipsnakes_dfs[0]\\nwhipsnakes20_scoring_df[\\'Team\\'] = \\'whipsnakes\\'\\n\\n\\nwhipsnakes20_goalkeep_df = whipsnakes_dfs[1]\\ndisplay(whipsnakes_scoring_df)\\n\\nr = req.get(\"https://www.statscrew.com/lacrosse/stats/t-PLLWAT/y-2020\")\\nteam = \"waterdogs\"\\n\\nsoup = BeautifulSoup(r.content, \\'html.parser\\')\\n#print(soup.prettify())\\nwaterdogs20_dfs = pd.read_html(soup.prettify())\\n\\nwaterdogs20_scoring_df = waterdogs20_dfs[0]\\nwaterdogs20_scoring_df[\\'Team\\'] = team\\n\\nr = req.get(\"https://www.statscrew.com/lacrosse/stats/t-PLLRED/y-2020\")\\nteam = \"redwoods\"\\n\\nsoup = BeautifulSoup(r.content, \\'html.parser\\')\\n#print(soup.prettify())\\nredwoods20_dfs = pd.read_html(soup.prettify())\\n\\nredwoods20_scoring_df = redwoods20_dfs[0]\\nredwoods20_scoring_df[\\'Team\\'] = team\\n\\nr = req.get(\"https://www.statscrew.com/lacrosse/stats/t-PLLCHR/y-2020\")\\nteam = \"chrome\"\\n\\nsoup = BeautifulSoup(r.content, \\'html.parser\\')\\n#print(soup.prettify())\\nchrome20_dfs = pd.read_html(soup.prettify())\\n\\nchrome20_scoring_df = chrome20_dfs[0]\\nchrome20_scoring_df[\\'Team\\'] = team\\n\\nr = req.get(\"https://www.statscrew.com/lacrosse/stats/t-PLLCHA/y-2020\")\\nteam = \"chaos\"\\n\\nsoup = BeautifulSoup(r.content, \\'html.parser\\')\\n#print(soup.prettify())\\nchaos20_dfs = pd.read_html(soup.prettify())\\n\\nchaos20_scoring_df = chaos20_dfs[0]\\nchaos20_scoring_df[\\'Team\\'] = team\\n\\nr = req.get(\"https://www.statscrew.com/lacrosse/stats/t-PLLATL/y-2020\")\\nsoup = BeautifulSoup(r.content, \\'html.parser\\')\\natlas20_dfs = pd.read_html(soup.prettify())\\natlas20_scoring_df = atlas20_dfs[0]\\natlas20_scoring_df[\\'Team\\'] = \"atlas\"\\n\\nr = req.get(\"https://www.statscrew.com/lacrosse/stats/t-PLLARC/y-2020\")\\nsoup = BeautifulSoup(r.content, \\'html.parser\\')\\narchers20_dfs = pd.read_html(soup.prettify())\\narchers20_scoring_df = archers20_dfs[0]\\narchers20_scoring_df[\\'Team\\'] = \"archers\"'"
      ]
     },
     "execution_count": 1,
     "metadata": {},
     "output_type": "execute_result"
    }
   ],
   "source": [
    "'''\n",
    "\n",
    "r = req.get(\"https://www.statscrew.com/lacrosse/stats/t-PLLWHI/y-2020\")\n",
    "soup = BeautifulSoup(r.content, 'html.parser')\n",
    "#print(soup.prettify())\n",
    "whipsnakes20_dfs = pd.read_html(soup.prettify())\n",
    "whipsnakes20_scoring_df = whipsnakes_dfs[0]\n",
    "whipsnakes20_scoring_df['Team'] = 'whipsnakes'\n",
    "\n",
    "\n",
    "whipsnakes20_goalkeep_df = whipsnakes_dfs[1]\n",
    "display(whipsnakes_scoring_df)\n",
    "\n",
    "r = req.get(\"https://www.statscrew.com/lacrosse/stats/t-PLLWAT/y-2020\")\n",
    "team = \"waterdogs\"\n",
    "\n",
    "soup = BeautifulSoup(r.content, 'html.parser')\n",
    "#print(soup.prettify())\n",
    "waterdogs20_dfs = pd.read_html(soup.prettify())\n",
    "\n",
    "waterdogs20_scoring_df = waterdogs20_dfs[0]\n",
    "waterdogs20_scoring_df['Team'] = team\n",
    "\n",
    "r = req.get(\"https://www.statscrew.com/lacrosse/stats/t-PLLRED/y-2020\")\n",
    "team = \"redwoods\"\n",
    "\n",
    "soup = BeautifulSoup(r.content, 'html.parser')\n",
    "#print(soup.prettify())\n",
    "redwoods20_dfs = pd.read_html(soup.prettify())\n",
    "\n",
    "redwoods20_scoring_df = redwoods20_dfs[0]\n",
    "redwoods20_scoring_df['Team'] = team\n",
    "\n",
    "r = req.get(\"https://www.statscrew.com/lacrosse/stats/t-PLLCHR/y-2020\")\n",
    "team = \"chrome\"\n",
    "\n",
    "soup = BeautifulSoup(r.content, 'html.parser')\n",
    "#print(soup.prettify())\n",
    "chrome20_dfs = pd.read_html(soup.prettify())\n",
    "\n",
    "chrome20_scoring_df = chrome20_dfs[0]\n",
    "chrome20_scoring_df['Team'] = team\n",
    "\n",
    "r = req.get(\"https://www.statscrew.com/lacrosse/stats/t-PLLCHA/y-2020\")\n",
    "team = \"chaos\"\n",
    "\n",
    "soup = BeautifulSoup(r.content, 'html.parser')\n",
    "#print(soup.prettify())\n",
    "chaos20_dfs = pd.read_html(soup.prettify())\n",
    "\n",
    "chaos20_scoring_df = chaos20_dfs[0]\n",
    "chaos20_scoring_df['Team'] = team\n",
    "\n",
    "r = req.get(\"https://www.statscrew.com/lacrosse/stats/t-PLLATL/y-2020\")\n",
    "soup = BeautifulSoup(r.content, 'html.parser')\n",
    "atlas20_dfs = pd.read_html(soup.prettify())\n",
    "atlas20_scoring_df = atlas20_dfs[0]\n",
    "atlas20_scoring_df['Team'] = \"atlas\"\n",
    "\n",
    "r = req.get(\"https://www.statscrew.com/lacrosse/stats/t-PLLARC/y-2020\")\n",
    "soup = BeautifulSoup(r.content, 'html.parser')\n",
    "archers20_dfs = pd.read_html(soup.prettify())\n",
    "archers20_scoring_df = archers20_dfs[0]\n",
    "archers20_scoring_df['Team'] = \"archers\"'''"
   ]
  },
  {
   "cell_type": "code",
   "execution_count": null,
   "id": "dressed-circus",
   "metadata": {},
   "outputs": [],
   "source": []
  },
  {
   "cell_type": "code",
   "execution_count": null,
   "id": "approximate-texas",
   "metadata": {},
   "outputs": [],
   "source": []
  },
  {
   "cell_type": "code",
   "execution_count": null,
   "id": "demographic-october",
   "metadata": {},
   "outputs": [],
   "source": []
  },
  {
   "cell_type": "code",
   "execution_count": null,
   "id": "stupid-large",
   "metadata": {},
   "outputs": [],
   "source": []
  },
  {
   "cell_type": "code",
   "execution_count": null,
   "id": "medical-trace",
   "metadata": {},
   "outputs": [],
   "source": []
  },
  {
   "cell_type": "markdown",
   "id": "british-spiritual",
   "metadata": {},
   "source": [
    "# How to Win Premier Lacrosse League Games\n",
    "\n",
    "By John Perret\n",
    "\n",
    "## Introduction\n",
    "\n",
    "The premier lacrosse league is a relatively new professional sports league. The Whipsnakes Lacrosse Club has won the championship both seasons. I'd like to see if there is a data science method to find out how they score goals stop the other team from scoring and then win games.\n",
    "\n",
    "There are only seven teams and two seasons, so the dataset is very small compared to other sports however the processes used will scale when more data becomes avaliable"
   ]
  },
  {
   "cell_type": "code",
   "execution_count": null,
   "id": "expensive-indie",
   "metadata": {},
   "outputs": [],
   "source": []
  },
  {
   "cell_type": "markdown",
   "id": "restricted-worker",
   "metadata": {},
   "source": [
    "## Data Scrapping\n",
    "\n",
    "First we'll import all the libraries we'll need as well as initialize some constants that will be used throughout the rest of the tasks."
   ]
  },
  {
   "cell_type": "code",
   "execution_count": 2,
   "id": "characteristic-acoustic",
   "metadata": {},
   "outputs": [],
   "source": [
    "import pandas as pd\n",
    "import numpy as np\n",
    "import matplotlib.pyplot as plt\n",
    "import requests as req\n",
    "from bs4 import BeautifulSoup\n",
    "from sklearn import datasets, linear_model\n",
    "# %matplotlib notebook"
   ]
  },
  {
   "cell_type": "code",
   "execution_count": 3,
   "id": "mechanical-egypt",
   "metadata": {},
   "outputs": [],
   "source": [
    "# initialize some constants\n",
    "team_colors= {\"Archers LC\" : \"#224279\", \"Atlas LC\" : \"#0ea2c0\", \"Chaos LC\" : \"#ed4849\", \"Chrome LC\" : \"#f3609e\", \"Redwoods LC\" : \"#483633\", \"Waterdogs LC\" : \"#978cd8\", \"Whipsnakes LC\" : \"#58c4b2\"}\n",
    "SEASONS = [2019, 2020] # as more seasons are held add to the list"
   ]
  },
  {
   "cell_type": "markdown",
   "id": "veterinary-terrorist",
   "metadata": {},
   "source": [
    "## Source\n",
    "There are multiple pages that data is being scrapped from. They are all from [statscrews.com 2020 Premier Lacrosse League Data](https://www.statscrew.com/lacrosse/l-PLL/y-2020).\n",
    "\n",
    "Stats crew contains data for many different professional sports leagues for different sports.\n",
    "\n",
    "First we will gather data on all the players in all the season. This requires going to each team's page for each season and scraping the table on the page. \n",
    "Luckily pandas has a function that we can use for scrapping an html table\n",
    "\n",
    "Since we can select all values in the dataframe by the team column there is no need to save dataframes for each team."
   ]
  },
  {
   "cell_type": "code",
   "execution_count": 4,
   "id": "emerging-toddler",
   "metadata": {
    "scrolled": true
   },
   "outputs": [
    {
     "data": {
      "text/html": [
       "<div>\n",
       "<style scoped>\n",
       "    .dataframe tbody tr th:only-of-type {\n",
       "        vertical-align: middle;\n",
       "    }\n",
       "\n",
       "    .dataframe tbody tr th {\n",
       "        vertical-align: top;\n",
       "    }\n",
       "\n",
       "    .dataframe thead th {\n",
       "        text-align: right;\n",
       "    }\n",
       "</style>\n",
       "<table border=\"1\" class=\"dataframe\">\n",
       "  <thead>\n",
       "    <tr style=\"text-align: right;\">\n",
       "      <th></th>\n",
       "      <th>Player</th>\n",
       "      <th>Pos</th>\n",
       "      <th>GP</th>\n",
       "      <th>G</th>\n",
       "      <th>A</th>\n",
       "      <th>Pts</th>\n",
       "      <th>PIM</th>\n",
       "      <th>PPG</th>\n",
       "      <th>SHG</th>\n",
       "      <th>GWG</th>\n",
       "      <th>...</th>\n",
       "      <th>S%</th>\n",
       "      <th>SG%</th>\n",
       "      <th>GB</th>\n",
       "      <th>TOC</th>\n",
       "      <th>CTO</th>\n",
       "      <th>FO</th>\n",
       "      <th>FW</th>\n",
       "      <th>FO%</th>\n",
       "      <th>team</th>\n",
       "      <th>year</th>\n",
       "    </tr>\n",
       "  </thead>\n",
       "  <tbody>\n",
       "    <tr>\n",
       "      <th>0</th>\n",
       "      <td>Tom Schreiber</td>\n",
       "      <td>M</td>\n",
       "      <td>10.0</td>\n",
       "      <td>17.0</td>\n",
       "      <td>18.0</td>\n",
       "      <td>37.0</td>\n",
       "      <td>NaN</td>\n",
       "      <td>0.0</td>\n",
       "      <td>0.0</td>\n",
       "      <td>0.0</td>\n",
       "      <td>...</td>\n",
       "      <td>28.8</td>\n",
       "      <td>58.6</td>\n",
       "      <td>9.0</td>\n",
       "      <td>22.0</td>\n",
       "      <td>1.0</td>\n",
       "      <td>0.0</td>\n",
       "      <td>0.0</td>\n",
       "      <td>NaN</td>\n",
       "      <td>Archers LC</td>\n",
       "      <td>2019</td>\n",
       "    </tr>\n",
       "    <tr>\n",
       "      <th>1</th>\n",
       "      <td>Marcus Holman</td>\n",
       "      <td>A</td>\n",
       "      <td>10.0</td>\n",
       "      <td>23.0</td>\n",
       "      <td>7.0</td>\n",
       "      <td>32.0</td>\n",
       "      <td>NaN</td>\n",
       "      <td>0.0</td>\n",
       "      <td>0.0</td>\n",
       "      <td>0.0</td>\n",
       "      <td>...</td>\n",
       "      <td>31.1</td>\n",
       "      <td>53.5</td>\n",
       "      <td>17.0</td>\n",
       "      <td>19.0</td>\n",
       "      <td>0.0</td>\n",
       "      <td>0.0</td>\n",
       "      <td>0.0</td>\n",
       "      <td>NaN</td>\n",
       "      <td>Archers LC</td>\n",
       "      <td>2019</td>\n",
       "    </tr>\n",
       "    <tr>\n",
       "      <th>2</th>\n",
       "      <td>Will Manny</td>\n",
       "      <td>A</td>\n",
       "      <td>10.0</td>\n",
       "      <td>22.0</td>\n",
       "      <td>7.0</td>\n",
       "      <td>30.0</td>\n",
       "      <td>NaN</td>\n",
       "      <td>0.0</td>\n",
       "      <td>0.0</td>\n",
       "      <td>0.0</td>\n",
       "      <td>...</td>\n",
       "      <td>29.7</td>\n",
       "      <td>44.0</td>\n",
       "      <td>7.0</td>\n",
       "      <td>20.0</td>\n",
       "      <td>1.0</td>\n",
       "      <td>0.0</td>\n",
       "      <td>0.0</td>\n",
       "      <td>NaN</td>\n",
       "      <td>Archers LC</td>\n",
       "      <td>2019</td>\n",
       "    </tr>\n",
       "    <tr>\n",
       "      <th>3</th>\n",
       "      <td>Ben McIntosh</td>\n",
       "      <td>M</td>\n",
       "      <td>10.0</td>\n",
       "      <td>11.0</td>\n",
       "      <td>2.0</td>\n",
       "      <td>13.0</td>\n",
       "      <td>NaN</td>\n",
       "      <td>0.0</td>\n",
       "      <td>0.0</td>\n",
       "      <td>0.0</td>\n",
       "      <td>...</td>\n",
       "      <td>25.0</td>\n",
       "      <td>40.7</td>\n",
       "      <td>7.0</td>\n",
       "      <td>7.0</td>\n",
       "      <td>0.0</td>\n",
       "      <td>0.0</td>\n",
       "      <td>0.0</td>\n",
       "      <td>NaN</td>\n",
       "      <td>Archers LC</td>\n",
       "      <td>2019</td>\n",
       "    </tr>\n",
       "    <tr>\n",
       "      <th>4</th>\n",
       "      <td>Christian Cuccinello</td>\n",
       "      <td>A</td>\n",
       "      <td>8.0</td>\n",
       "      <td>8.0</td>\n",
       "      <td>4.0</td>\n",
       "      <td>12.0</td>\n",
       "      <td>NaN</td>\n",
       "      <td>0.0</td>\n",
       "      <td>0.0</td>\n",
       "      <td>0.0</td>\n",
       "      <td>...</td>\n",
       "      <td>28.6</td>\n",
       "      <td>47.1</td>\n",
       "      <td>10.0</td>\n",
       "      <td>7.0</td>\n",
       "      <td>0.0</td>\n",
       "      <td>0.0</td>\n",
       "      <td>0.0</td>\n",
       "      <td>NaN</td>\n",
       "      <td>Archers LC</td>\n",
       "      <td>2019</td>\n",
       "    </tr>\n",
       "    <tr>\n",
       "      <th>...</th>\n",
       "      <td>...</td>\n",
       "      <td>...</td>\n",
       "      <td>...</td>\n",
       "      <td>...</td>\n",
       "      <td>...</td>\n",
       "      <td>...</td>\n",
       "      <td>...</td>\n",
       "      <td>...</td>\n",
       "      <td>...</td>\n",
       "      <td>...</td>\n",
       "      <td>...</td>\n",
       "      <td>...</td>\n",
       "      <td>...</td>\n",
       "      <td>...</td>\n",
       "      <td>...</td>\n",
       "      <td>...</td>\n",
       "      <td>...</td>\n",
       "      <td>...</td>\n",
       "      <td>...</td>\n",
       "      <td>...</td>\n",
       "      <td>...</td>\n",
       "    </tr>\n",
       "    <tr>\n",
       "      <th>324</th>\n",
       "      <td>Joe McCallion</td>\n",
       "      <td>M</td>\n",
       "      <td>6.0</td>\n",
       "      <td>0.0</td>\n",
       "      <td>0.0</td>\n",
       "      <td>0.0</td>\n",
       "      <td>0.0</td>\n",
       "      <td>0.0</td>\n",
       "      <td>0.0</td>\n",
       "      <td>0.0</td>\n",
       "      <td>...</td>\n",
       "      <td>0.0</td>\n",
       "      <td>NaN</td>\n",
       "      <td>0.0</td>\n",
       "      <td>1.0</td>\n",
       "      <td>0.0</td>\n",
       "      <td>11.0</td>\n",
       "      <td>4.0</td>\n",
       "      <td>36.4</td>\n",
       "      <td>Whipsnakes LC</td>\n",
       "      <td>2020</td>\n",
       "    </tr>\n",
       "    <tr>\n",
       "      <th>325</th>\n",
       "      <td>Jacob Stover</td>\n",
       "      <td>G</td>\n",
       "      <td>6.0</td>\n",
       "      <td>0.0</td>\n",
       "      <td>0.0</td>\n",
       "      <td>0.0</td>\n",
       "      <td>0.0</td>\n",
       "      <td>0.0</td>\n",
       "      <td>0.0</td>\n",
       "      <td>0.0</td>\n",
       "      <td>...</td>\n",
       "      <td>0.0</td>\n",
       "      <td>0.0</td>\n",
       "      <td>1.0</td>\n",
       "      <td>0.0</td>\n",
       "      <td>0.0</td>\n",
       "      <td>0.0</td>\n",
       "      <td>0.0</td>\n",
       "      <td>NaN</td>\n",
       "      <td>Whipsnakes LC</td>\n",
       "      <td>2020</td>\n",
       "    </tr>\n",
       "    <tr>\n",
       "      <th>326</th>\n",
       "      <td>Tyler Warner</td>\n",
       "      <td>M</td>\n",
       "      <td>6.0</td>\n",
       "      <td>0.0</td>\n",
       "      <td>0.0</td>\n",
       "      <td>0.0</td>\n",
       "      <td>1.5</td>\n",
       "      <td>0.0</td>\n",
       "      <td>0.0</td>\n",
       "      <td>0.0</td>\n",
       "      <td>...</td>\n",
       "      <td>0.0</td>\n",
       "      <td>0.0</td>\n",
       "      <td>16.0</td>\n",
       "      <td>2.0</td>\n",
       "      <td>0.0</td>\n",
       "      <td>0.0</td>\n",
       "      <td>0.0</td>\n",
       "      <td>NaN</td>\n",
       "      <td>Whipsnakes LC</td>\n",
       "      <td>2020</td>\n",
       "    </tr>\n",
       "    <tr>\n",
       "      <th>327</th>\n",
       "      <td>Jake Bernhardt</td>\n",
       "      <td>M,F</td>\n",
       "      <td>6.0</td>\n",
       "      <td>0.0</td>\n",
       "      <td>0.0</td>\n",
       "      <td>0.0</td>\n",
       "      <td>1.0</td>\n",
       "      <td>0.0</td>\n",
       "      <td>0.0</td>\n",
       "      <td>0.0</td>\n",
       "      <td>...</td>\n",
       "      <td>0.0</td>\n",
       "      <td>0.0</td>\n",
       "      <td>2.0</td>\n",
       "      <td>2.0</td>\n",
       "      <td>7.0</td>\n",
       "      <td>0.0</td>\n",
       "      <td>0.0</td>\n",
       "      <td>NaN</td>\n",
       "      <td>Whipsnakes LC</td>\n",
       "      <td>2020</td>\n",
       "    </tr>\n",
       "    <tr>\n",
       "      <th>328</th>\n",
       "      <td>Totals</td>\n",
       "      <td>NaN</td>\n",
       "      <td>132.0</td>\n",
       "      <td>78.0</td>\n",
       "      <td>45.0</td>\n",
       "      <td>127.0</td>\n",
       "      <td>9.5</td>\n",
       "      <td>5.0</td>\n",
       "      <td>0.0</td>\n",
       "      <td>0.0</td>\n",
       "      <td>...</td>\n",
       "      <td>30.2</td>\n",
       "      <td>47.6</td>\n",
       "      <td>223.0</td>\n",
       "      <td>84.0</td>\n",
       "      <td>33.0</td>\n",
       "      <td>149.0</td>\n",
       "      <td>104.0</td>\n",
       "      <td>69.8</td>\n",
       "      <td>Whipsnakes LC</td>\n",
       "      <td>2020</td>\n",
       "    </tr>\n",
       "  </tbody>\n",
       "</table>\n",
       "<p>329 rows × 22 columns</p>\n",
       "</div>"
      ],
      "text/plain": [
       "                   Player  Pos     GP     G     A    Pts  PIM  PPG  SHG  GWG  \\\n",
       "0           Tom Schreiber    M   10.0  17.0  18.0   37.0  NaN  0.0  0.0  0.0   \n",
       "1           Marcus Holman    A   10.0  23.0   7.0   32.0  NaN  0.0  0.0  0.0   \n",
       "2              Will Manny    A   10.0  22.0   7.0   30.0  NaN  0.0  0.0  0.0   \n",
       "3            Ben McIntosh    M   10.0  11.0   2.0   13.0  NaN  0.0  0.0  0.0   \n",
       "4    Christian Cuccinello    A    8.0   8.0   4.0   12.0  NaN  0.0  0.0  0.0   \n",
       "..                    ...  ...    ...   ...   ...    ...  ...  ...  ...  ...   \n",
       "324         Joe McCallion    M    6.0   0.0   0.0    0.0  0.0  0.0  0.0  0.0   \n",
       "325          Jacob Stover    G    6.0   0.0   0.0    0.0  0.0  0.0  0.0  0.0   \n",
       "326          Tyler Warner    M    6.0   0.0   0.0    0.0  1.5  0.0  0.0  0.0   \n",
       "327        Jake Bernhardt  M,F    6.0   0.0   0.0    0.0  1.0  0.0  0.0  0.0   \n",
       "328                Totals  NaN  132.0  78.0  45.0  127.0  9.5  5.0  0.0  0.0   \n",
       "\n",
       "     ...    S%   SG%     GB   TOC   CTO     FO     FW   FO%           team  \\\n",
       "0    ...  28.8  58.6    9.0  22.0   1.0    0.0    0.0   NaN     Archers LC   \n",
       "1    ...  31.1  53.5   17.0  19.0   0.0    0.0    0.0   NaN     Archers LC   \n",
       "2    ...  29.7  44.0    7.0  20.0   1.0    0.0    0.0   NaN     Archers LC   \n",
       "3    ...  25.0  40.7    7.0   7.0   0.0    0.0    0.0   NaN     Archers LC   \n",
       "4    ...  28.6  47.1   10.0   7.0   0.0    0.0    0.0   NaN     Archers LC   \n",
       "..   ...   ...   ...    ...   ...   ...    ...    ...   ...            ...   \n",
       "324  ...   0.0   NaN    0.0   1.0   0.0   11.0    4.0  36.4  Whipsnakes LC   \n",
       "325  ...   0.0   0.0    1.0   0.0   0.0    0.0    0.0   NaN  Whipsnakes LC   \n",
       "326  ...   0.0   0.0   16.0   2.0   0.0    0.0    0.0   NaN  Whipsnakes LC   \n",
       "327  ...   0.0   0.0    2.0   2.0   7.0    0.0    0.0   NaN  Whipsnakes LC   \n",
       "328  ...  30.2  47.6  223.0  84.0  33.0  149.0  104.0  69.8  Whipsnakes LC   \n",
       "\n",
       "     year  \n",
       "0    2019  \n",
       "1    2019  \n",
       "2    2019  \n",
       "3    2019  \n",
       "4    2019  \n",
       "..    ...  \n",
       "324  2020  \n",
       "325  2020  \n",
       "326  2020  \n",
       "327  2020  \n",
       "328  2020  \n",
       "\n",
       "[329 rows x 22 columns]"
      ]
     },
     "execution_count": 4,
     "metadata": {},
     "output_type": "execute_result"
    }
   ],
   "source": [
    "# teams_dic converts team names into the url extension to get data on the team\n",
    "teams_dic = {\"Archers LC\" : \"t-PLLARC\", \"Atlas LC\" : \"t-PLLATL\", \"Chaos LC\" : \"t-PLLCHA\", \"Chrome LC\" : \"t-PLLCHR\", \"Redwoods LC\" : \"t-PLLRED\", \"Waterdogs LC\" : \"t-PLLWAT\", \"Whipsnakes LC\" : \"t-PLLWHI\"}\n",
    "\n",
    "combined20_scoring_df = pd.DataFrame() # dataframe for scoring data\n",
    "\n",
    "for year in SEASONS:\n",
    "    for team_name in teams_dic:\n",
    "        r = req.get(f\"https://www.statscrew.com/lacrosse/stats/{teams_dic[team_name]}/y-{year}\")\n",
    "        soup = BeautifulSoup(r.content, 'html.parser')\n",
    "        new_df = pd.read_html(soup.prettify())[0]\n",
    "        new_df['team'] = team_name\n",
    "        new_df['year'] = year\n",
    "        combined20_scoring_df = pd.concat([combined20_scoring_df, new_df],ignore_index=True)\n",
    "\n",
    "combined20_scoring_df"
   ]
  },
  {
   "cell_type": "markdown",
   "id": "interested-cycling",
   "metadata": {},
   "source": [
    "Columns explained. This is additional data on the html page for each team. I decided it was easier to copy all the column titles by hand rather than scrape them\n",
    "\n",
    "| Column Title | Explanation |\n",
    "| ----------- | ----------- |\n",
    "| Player | Player Name |\n",
    "| Pos | Position |\n",
    "| GP | Games Played |\n",
    "| G | Goals |\n",
    "| A | Assists |\n",
    "| Pts | Points: goals + assists |\n",
    "| PIM | Penalties in minutes |\n",
    "| PPG | Power Play Goals |\n",
    "| SHG | Short Hand Goals |\n",
    "| GWG | Game Winning Goals |\n",
    "| Shts | Shots |\n",
    "| SOG | Shots On Goal |\n",
    "| S% | Shooting Percentage |\n",
    "| SG% | Shots On Goal Percentage |\n",
    "| GB | Ground Balls |\n",
    "| TOC | Turnovers Committed |\n",
    "| CTO | Caused Turnovers |\n",
    "| FO | Faceoffs |\n",
    "| FW | Faceoffs Won |\n",
    "| FO% | Faceoff Win Percentage |\n",
    "| Team | Team |\n",
    "| year | Year |"
   ]
  },
  {
   "cell_type": "markdown",
   "id": "educational-palace",
   "metadata": {},
   "source": [
    "Next we will collecting the regular season standings. The 2020 season for example can be found [here](https://www.statscrew.com/lacrosse/standings/l-PLL/y-2020)."
   ]
  },
  {
   "cell_type": "code",
   "execution_count": 5,
   "id": "supported-aberdeen",
   "metadata": {},
   "outputs": [
    {
     "data": {
      "text/html": [
       "<div>\n",
       "<style scoped>\n",
       "    .dataframe tbody tr th:only-of-type {\n",
       "        vertical-align: middle;\n",
       "    }\n",
       "\n",
       "    .dataframe tbody tr th {\n",
       "        vertical-align: top;\n",
       "    }\n",
       "\n",
       "    .dataframe thead th {\n",
       "        text-align: right;\n",
       "    }\n",
       "</style>\n",
       "<table border=\"1\" class=\"dataframe\">\n",
       "  <thead>\n",
       "    <tr style=\"text-align: right;\">\n",
       "      <th></th>\n",
       "      <th>Team</th>\n",
       "      <th>W</th>\n",
       "      <th>L</th>\n",
       "      <th>GF</th>\n",
       "      <th>GA</th>\n",
       "      <th>year</th>\n",
       "    </tr>\n",
       "  </thead>\n",
       "  <tbody>\n",
       "    <tr>\n",
       "      <th>0</th>\n",
       "      <td>Chaos LC</td>\n",
       "      <td>7</td>\n",
       "      <td>3</td>\n",
       "      <td>118</td>\n",
       "      <td>126</td>\n",
       "      <td>2019</td>\n",
       "    </tr>\n",
       "    <tr>\n",
       "      <th>1</th>\n",
       "      <td>Whipsnakes LC</td>\n",
       "      <td>6</td>\n",
       "      <td>4</td>\n",
       "      <td>116</td>\n",
       "      <td>109</td>\n",
       "      <td>2019</td>\n",
       "    </tr>\n",
       "    <tr>\n",
       "      <th>2</th>\n",
       "      <td>Archers LC</td>\n",
       "      <td>5</td>\n",
       "      <td>5</td>\n",
       "      <td>105</td>\n",
       "      <td>100</td>\n",
       "      <td>2019</td>\n",
       "    </tr>\n",
       "    <tr>\n",
       "      <th>3</th>\n",
       "      <td>Redwoods LC</td>\n",
       "      <td>5</td>\n",
       "      <td>5</td>\n",
       "      <td>112</td>\n",
       "      <td>106</td>\n",
       "      <td>2019</td>\n",
       "    </tr>\n",
       "    <tr>\n",
       "      <th>4</th>\n",
       "      <td>Atlas LC</td>\n",
       "      <td>5</td>\n",
       "      <td>5</td>\n",
       "      <td>117</td>\n",
       "      <td>122</td>\n",
       "      <td>2019</td>\n",
       "    </tr>\n",
       "    <tr>\n",
       "      <th>5</th>\n",
       "      <td>Chrome LC</td>\n",
       "      <td>2</td>\n",
       "      <td>8</td>\n",
       "      <td>120</td>\n",
       "      <td>125</td>\n",
       "      <td>2019</td>\n",
       "    </tr>\n",
       "    <tr>\n",
       "      <th>6</th>\n",
       "      <td>Whipsnakes LC</td>\n",
       "      <td>6</td>\n",
       "      <td>0</td>\n",
       "      <td>82</td>\n",
       "      <td>51</td>\n",
       "      <td>2020</td>\n",
       "    </tr>\n",
       "    <tr>\n",
       "      <th>7</th>\n",
       "      <td>Archers LC</td>\n",
       "      <td>4</td>\n",
       "      <td>2</td>\n",
       "      <td>64</td>\n",
       "      <td>68</td>\n",
       "      <td>2020</td>\n",
       "    </tr>\n",
       "    <tr>\n",
       "      <th>8</th>\n",
       "      <td>Chrome LC</td>\n",
       "      <td>3</td>\n",
       "      <td>2</td>\n",
       "      <td>64</td>\n",
       "      <td>64</td>\n",
       "      <td>2020</td>\n",
       "    </tr>\n",
       "    <tr>\n",
       "      <th>9</th>\n",
       "      <td>Redwoods LC</td>\n",
       "      <td>3</td>\n",
       "      <td>3</td>\n",
       "      <td>62</td>\n",
       "      <td>63</td>\n",
       "      <td>2020</td>\n",
       "    </tr>\n",
       "    <tr>\n",
       "      <th>10</th>\n",
       "      <td>Chaos LC</td>\n",
       "      <td>2</td>\n",
       "      <td>5</td>\n",
       "      <td>70</td>\n",
       "      <td>78</td>\n",
       "      <td>2020</td>\n",
       "    </tr>\n",
       "    <tr>\n",
       "      <th>11</th>\n",
       "      <td>Waterdogs LC</td>\n",
       "      <td>1</td>\n",
       "      <td>4</td>\n",
       "      <td>47</td>\n",
       "      <td>53</td>\n",
       "      <td>2020</td>\n",
       "    </tr>\n",
       "    <tr>\n",
       "      <th>12</th>\n",
       "      <td>Atlas LC</td>\n",
       "      <td>1</td>\n",
       "      <td>4</td>\n",
       "      <td>46</td>\n",
       "      <td>58</td>\n",
       "      <td>2020</td>\n",
       "    </tr>\n",
       "  </tbody>\n",
       "</table>\n",
       "</div>"
      ],
      "text/plain": [
       "             Team  W  L   GF   GA  year\n",
       "0        Chaos LC  7  3  118  126  2019\n",
       "1   Whipsnakes LC  6  4  116  109  2019\n",
       "2      Archers LC  5  5  105  100  2019\n",
       "3     Redwoods LC  5  5  112  106  2019\n",
       "4        Atlas LC  5  5  117  122  2019\n",
       "5       Chrome LC  2  8  120  125  2019\n",
       "6   Whipsnakes LC  6  0   82   51  2020\n",
       "7      Archers LC  4  2   64   68  2020\n",
       "8       Chrome LC  3  2   64   64  2020\n",
       "9     Redwoods LC  3  3   62   63  2020\n",
       "10       Chaos LC  2  5   70   78  2020\n",
       "11   Waterdogs LC  1  4   47   53  2020\n",
       "12       Atlas LC  1  4   46   58  2020"
      ]
     },
     "execution_count": 5,
     "metadata": {},
     "output_type": "execute_result"
    }
   ],
   "source": [
    "standings = pd.DataFrame()\n",
    "for year in SEASONS:\n",
    "    r = req.get(f\"https://www.statscrew.com/lacrosse/standings/l-PLL/y-{year}\")\n",
    "    soup = BeautifulSoup(r.content, 'html.parser')\n",
    "    s = pd.read_html(soup.prettify())[0]\n",
    "    s['year'] = year\n",
    "    s.drop(\"Unnamed: 5\", axis=1, inplace=True)\n",
    "    s.drop(\"Unnamed: 6\", axis=1, inplace=True)\n",
    "    standings = pd.concat([standings, s], ignore_index=True)\n",
    "standings"
   ]
  },
  {
   "cell_type": "markdown",
   "id": "streaming-ranch",
   "metadata": {},
   "source": [
    "Similar to the scoring data I decided it would be easier to copy column title explanations by hand\n",
    "\n",
    "| Column Title | Explanation |\n",
    "| ----------- | ----------- |\n",
    "| Team | Team |\n",
    "| W | Wins |\n",
    "| L | Losses |\n",
    "| GF | Goals For |\n",
    "| GA | Goals Against |\n",
    "| year | Year |"
   ]
  },
  {
   "cell_type": "markdown",
   "id": "charming-mexican",
   "metadata": {},
   "source": [
    "Normally in the data science progression this is where we would tidy up our data. We are lucky enough to have the data already tidy enough for our use.\n",
    "\n",
    "There is some missing data for some seasons, but the Nan's in the dataframe will be okay in further analysis.\n",
    "\n",
    "# TODO Could change nan to pd.missing\n",
    "# TODO could combine standings and totals columns to make teams and players dataframes."
   ]
  },
  {
   "cell_type": "markdown",
   "id": "bulgarian-saturn",
   "metadata": {},
   "source": [
    "## What is more relevant to wins? Goals for or goals against"
   ]
  },
  {
   "cell_type": "code",
   "execution_count": 6,
   "id": "handy-industry",
   "metadata": {},
   "outputs": [
    {
     "data": {
      "text/plain": [
       "<matplotlib.collections.PathCollection at 0x7f9a7ae3ebb0>"
      ]
     },
     "execution_count": 6,
     "metadata": {},
     "output_type": "execute_result"
    },
    {
     "data": {
      "image/png": "[encoded data removed]",
      "text/plain": [
       "<Figure size 432x288 with 1 Axes>"
      ]
     },
     "metadata": {
      "needs_background": "light"
     },
     "output_type": "display_data"
    }
   ],
   "source": [
    "plt.scatter(standings.GF, standings.W, color=[team_colors[t] for t in standings.Team], label = standings.Team)\n",
    "plt.scatter(standings.GA, standings.W, color=[team_colors[t] for t in standings.Team], label = standings.Team)"
   ]
  },
  {
   "cell_type": "code",
   "execution_count": 12,
   "id": "absolute-connection",
   "metadata": {},
   "outputs": [
    {
     "data": {
      "image/png": "[encoded data removed]",
      "text/plain": [
       "<Figure size 432x288 with 1 Axes>"
      ]
     },
     "metadata": {
      "needs_background": "light"
     },
     "output_type": "display_data"
    }
   ],
   "source": [
    "plt.scatter(standings.GF/(standings.W+standings.L), standings.W, label = \"GF\")\n",
    "plt.scatter(standings.GA/(standings.W+standings.L), standings.W, label = \"GA\")\n",
    "plt.legend()\n",
    "plt.title(\"Goals for and goals against vs games won\")\n",
    "plt.xlabel(\"Avg. Goals\")\n",
    "plt.ylabel(\"Games won\")\n",
    "plt.show()"
   ]
  },
  {
   "cell_type": "code",
   "execution_count": 8,
   "id": "smart-adult",
   "metadata": {},
   "outputs": [
    {
     "data": {
      "image/png": "[encoded data removed]",
      "text/plain": [
       "<Figure size 432x288 with 1 Axes>"
      ]
     },
     "metadata": {
      "needs_background": "light"
     },
     "output_type": "display_data"
    }
   ],
   "source": [
    "ax = plt.axes(projection =\"3d\")\n",
    "ax.scatter(standings.GF/(standings.W+standings.L), standings.GA/(standings.W+standings.L), standings.W)\n",
    "plt.title(\"Goals for and goals against vs games won\")\n",
    "plt.xlabel(\"Avg. Goals For\")\n",
    "plt.ylabel(\"Avg. Goals Against\")\n",
    "plt.zlabel(\"Games won\")\n",
    "plt.show()"
   ]
  },
  {
   "cell_type": "markdown",
   "id": "received-animation",
   "metadata": {},
   "source": [
    "Since in the two seasons there were a different number of games played I decided to normalize the number of goals scored to account for this. \n",
    "\n",
    "Ideally when graphing 2 features of a model we use an axis for each feature. Due to the minimal amount of data avaliable I didn't think the 3D graph was very easy to interpret so I also included a 2D graph.\n",
    "\n",
    "There is not a lot of points to show a clear linear relationship, but we can assume one.\n",
    "\n"
   ]
  },
  {
   "cell_type": "markdown",
   "id": "younger-utility",
   "metadata": {},
   "source": [
    "Now lets perform a linear regression with goals for and goals against. I'm going to do one for unnormalized data first then normalized data after to compare."
   ]
  },
  {
   "cell_type": "code",
   "execution_count": 19,
   "id": "clean-italy",
   "metadata": {
    "scrolled": true
   },
   "outputs": [
    {
     "name": "stdout",
     "output_type": "stream",
     "text": [
      "num wins = 0.23934875786387577 + 0.11737905105296058 * goals for + -0.07562618716358424 * goals against\n"
     ]
    }
   ],
   "source": [
    "X = standings.drop(['Team', 'W', 'L', 'year'], axis=1) # drop everything except goals for and against.\n",
    "y = standings.W\n",
    "# display(X)\n",
    "# display(y)\n",
    "num_wins_regr = linear_model.LinearRegression().fit(X, y)\n",
    "regr_str = f\"num wins = {num_wins_regr.intercept_} + {num_wins_regr.coef_[0]} * goals for + {num_wins_regr.coef_[1]} * goals against\"\n",
    "print(regr_str)\n"
   ]
  },
  {
   "cell_type": "code",
   "execution_count": 20,
   "id": "vulnerable-salem",
   "metadata": {},
   "outputs": [
    {
     "name": "stdout",
     "output_type": "stream",
     "text": [
      "num wins = -3.021857525080503 + 0.9222315299798035 * avg. goals for + -0.3050497102915893 * avg. goals against\n"
     ]
    }
   ],
   "source": [
    "X = standings.drop(['Team', 'W', 'L', 'year'], axis=1) # drop everything except goals for and against.\n",
    "y = standings.W\n",
    "X['GF'] = X['GF'] / (standings.W + standings.L)\n",
    "X['GA'] = X['GA'] / (standings.W + standings.L)\n",
    "num_wins_regr = linear_model.LinearRegression().fit(X, y)\n",
    "regr_str = f\"num wins = {num_wins_regr.intercept_} + {num_wins_regr.coef_[0]} * avg. goals for + {num_wins_regr.coef_[1]} * avg. goals against\"\n",
    "print(regr_str)"
   ]
  },
  {
   "cell_type": "markdown",
   "id": "musical-question",
   "metadata": {},
   "source": [
    "By this analysis scoring goals is more important than stopping goals. Each goal scored will have a greater impact on the number of wins than each goal scoared against."
   ]
  },
  {
   "cell_type": "markdown",
   "id": "fixed-gabriel",
   "metadata": {},
   "source": [
    "graph each data point avaliable against number of wins. see which ones have an effect on winning and do a hypothesis test\n"
   ]
  },
  {
   "cell_type": "markdown",
   "id": "tracked-education",
   "metadata": {},
   "source": [
    "Since we believe scoring goals to be more important than stopping goals, lets continue our analysis to determine what is the most important statistic for scoring goals. For this analysis we'll compare the columns in the scoring table.\n",
    "\n",
    "We won't use all of the columns in the scoring dataframe because there are certain things we cannot change. For example, we won't use the position column because we can't have 10 midfielders on the feild at once even if they're the most likely to be scoring goals.\n",
    "\n",
    "I am not comparing players at the current moment so I will use the total rows for each team and season from the table.\n",
    "\n",
    "I will also ignore columns that are dependent of goals. For example assits and faceoffs happen whenever there is a goal so there is a strong linear relationship.\n",
    "\n",
    "A list of the columns being used are as follows:"
   ]
  },
  {
   "cell_type": "code",
   "execution_count": 75,
   "id": "large-aquatic",
   "metadata": {},
   "outputs": [
    {
     "data": {
      "image/png": "[encoded data removed]",
      "text/plain": [
       "<Figure size 432x288 with 1 Axes>"
      ]
     },
     "metadata": {
      "needs_background": "light"
     },
     "output_type": "display_data"
    },
    {
     "data": {
      "image/png": "[encoded data removed]",
      "text/plain": [
       "<Figure size 432x288 with 1 Axes>"
      ]
     },
     "metadata": {
      "needs_background": "light"
     },
     "output_type": "display_data"
    },
    {
     "data": {
      "image/png": "[encoded data removed]",
      "text/plain": [
       "<Figure size 432x288 with 1 Axes>"
      ]
     },
     "metadata": {
      "needs_background": "light"
     },
     "output_type": "display_data"
    },
    {
     "data": {
      "image/png": "[encoded data removed]",
      "text/plain": [
       "<Figure size 432x288 with 1 Axes>"
      ]
     },
     "metadata": {
      "needs_background": "light"
     },
     "output_type": "display_data"
    },
    {
     "data": {
      "image/png": "[encoded data removed]",
      "text/plain": [
       "<Figure size 432x288 with 1 Axes>"
      ]
     },
     "metadata": {
      "needs_background": "light"
     },
     "output_type": "display_data"
    },
    {
     "data": {
      "image/png": "[encoded data removed]",
      "text/plain": [
       "<Figure size 432x288 with 1 Axes>"
      ]
     },
     "metadata": {
      "needs_background": "light"
     },
     "output_type": "display_data"
    },
    {
     "data": {
      "image/png": "[encoded data removed]",
      "text/plain": [
       "<Figure size 432x288 with 1 Axes>"
      ]
     },
     "metadata": {
      "needs_background": "light"
     },
     "output_type": "display_data"
    },
    {
     "data": {
      "image/png": "[encoded data removed]",
      "text/plain": [
       "<Figure size 432x288 with 1 Axes>"
      ]
     },
     "metadata": {
      "needs_background": "light"
     },
     "output_type": "display_data"
    },
    {
     "data": {
      "image/png": "[encoded data removed]",
      "text/plain": [
       "<Figure size 432x288 with 1 Axes>"
      ]
     },
     "metadata": {
      "needs_background": "light"
     },
     "output_type": "display_data"
    }
   ],
   "source": [
    "shots_regr_cols = ['PIM', 'Shts', 'SOG', 'S%', 'SG%', 'GB', 'TOC', 'CTO', 'FO%']\n",
    "shots_regr_cols_data = {}\n",
    "for c in shots_regr_cols: \n",
    "    shots_regr_cols_data[c] = ([],[])\n",
    "for year in SEASONS:\n",
    "    for team_name in teams_dic:\n",
    "        for c in shots_regr_cols: \n",
    "            row = combined20_scoring_df.loc[combined20_scoring_df['team'] == team_name].loc[ combined20_scoring_df['year'] == year].loc[combined20_scoring_df['Player'] == 'Totals'].iloc[0]            \n",
    "            if not (np.isnan(row[c]) or np.isnan(row['G'])):\n",
    "                standings_row = standings.loc[standings['Team'] == team_name].loc[standings['year'] == year].iloc[0]\n",
    "                games_played = standings_row.W + standings_row.L\n",
    "                shots_regr_cols_data[c][0].append(row[c])\n",
    "                shots_regr_cols_data[c][1].append(row['G']/games_played)\n",
    "\n",
    "                i = 1\n",
    "for c in shots_regr_cols: \n",
    "    plt.figure(i)\n",
    "    x = shots_regr_cols_data[c][0]\n",
    "    y = shots_regr_cols_data[c][1]\n",
    "    plt.scatter(x, y)\n",
    "    m, b = np.polyfit(x, y, 1)\n",
    "    plt.plot(x, m*np.array(x) + b)\n",
    "    plt.title(f'{c} vs goals')\n",
    "    plt.xlabel(c)\n",
    "    plt.ylabel(\"Avg. Goals Per Game\")\n",
    "    i+=1"
   ]
  },
  {
   "cell_type": "markdown",
   "id": "multiple-philip",
   "metadata": {},
   "source": [
    "Most models have the linear regression we'd expect. There are two graphs that caught my attention. The first being  TOC vs goals. In theory more turnovers should lead to less goals since the team committing the turn over no longer has the ball. According to the calculated relationship more turnovers committed is directly related to number of goals scored. This could be due to the fact that if a team has the ball more they will therefore commit more turnovers and turnovers committed doesn't have a direct relationship with goals.\n",
    "\n",
    "Additionally committed turnovers didn't have a significant impact on goals scored this could also be explained by my hypothesis of possession time. Unfortunately I was unable to find data with possession statistics."
   ]
  },
  {
   "cell_type": "markdown",
   "id": "bridal-field",
   "metadata": {},
   "source": [
    "# More complicated linear regression with more datapoints"
   ]
  },
  {
   "cell_type": "code",
   "execution_count": null,
   "id": "indie-gossip",
   "metadata": {},
   "outputs": [],
   "source": []
  },
  {
   "cell_type": "markdown",
   "id": "mathematical-investigation",
   "metadata": {},
   "source": [
    "## Conclusion\n",
    "\n",
    "While there is very little data the professional lacrosse league, we were able to make predictions given the avaliable data."
   ]
  },
  {
   "cell_type": "code",
   "execution_count": null,
   "id": "differential-roommate",
   "metadata": {},
   "outputs": [],
   "source": []
  },
  {
   "cell_type": "code",
   "execution_count": null,
   "id": "compatible-approval",
   "metadata": {},
   "outputs": [],
   "source": []
  },
  {
   "cell_type": "code",
   "execution_count": null,
   "id": "appointed-looking",
   "metadata": {},
   "outputs": [],
   "source": []
  },
  {
   "cell_type": "code",
   "execution_count": null,
   "id": "simple-warrant",
   "metadata": {},
   "outputs": [],
   "source": []
  },
  {
   "cell_type": "code",
   "execution_count": null,
   "id": "average-budapest",
   "metadata": {},
   "outputs": [],
   "source": []
  },
  {
   "cell_type": "code",
   "execution_count": null,
   "id": "uniform-toolbox",
   "metadata": {},
   "outputs": [],
   "source": []
  }
 ],
 "metadata": {
  "kernelspec": {
   "display_name": "Python 3",
   "language": "python",
   "name": "python3"
  },
  "language_info": {
   "codemirror_mode": {
    "name": "ipython",
    "version": 3
   },
   "file_extension": ".py",
   "mimetype": "text/x-python",
   "name": "python",
   "nbconvert_exporter": "python",
   "pygments_lexer": "ipython3",
   "version": "3.8.6"
  }
 },
 "nbformat": 4,
 "nbformat_minor": 5
}
